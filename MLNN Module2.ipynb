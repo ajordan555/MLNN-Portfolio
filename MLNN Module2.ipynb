{
 "cells": [
  {
   "cell_type": "code",
   "execution_count": 117,
   "metadata": {},
   "outputs": [],
   "source": [
    "import numpy as np\n",
    "import pandas as pd\n",
    "import scipy as sp"
   ]
  },
  {
   "cell_type": "code",
   "execution_count": 118,
   "metadata": {},
   "outputs": [],
   "source": [
    "%matplotlib inline\n",
    "import matplotlib.pyplot as plt\n",
    "plt.style.use('ggplot')"
   ]
  },
  {
   "cell_type": "code",
   "execution_count": null,
   "metadata": {},
   "outputs": [],
   "source": [
    "%%file hw_data.csv\n",
    "id,sex,weight,height\n",
    "1,M,190,77\n",
    "2,F,120,70\n",
    "3,F,110,68\n",
    "4,M,150,72\n",
    "5,O,120,66\n",
    "6,M,120,60\n",
    "7,F,140,70"
   ]
  },
  {
   "cell_type": "markdown",
   "metadata": {},
   "source": [
    "# Python"
   ]
  },
  {
   "cell_type": "markdown",
   "metadata": {},
   "source": [
    "## 1. Finish creating the following function that takes a list and returns the average value.\n",
    "\n",
    "Add each element in the list to `total` and return `total`\n",
    "\n",
    "### DO NOT use a library function nor `sum()`"
   ]
  },
  {
   "cell_type": "code",
   "execution_count": 119,
   "metadata": {},
   "outputs": [
    {
     "data": {
      "text/plain": [
       "3.375"
      ]
     },
     "execution_count": 119,
     "metadata": {},
     "output_type": "execute_result"
    }
   ],
   "source": [
    "def average(my_list):\n",
    "    total = 0\n",
    "    for item in my_list:\n",
    "        total = (total+item)\n",
    "        average = total/len(my_list)\n",
    "    return average\n",
    "\n",
    "average([1,2,1,4,3,2,5,9])"
   ]
  },
  {
   "cell_type": "markdown",
   "metadata": {},
   "source": [
    "## 2. Using a Dictionary keep track of the count of numbers (or items) from a list"
   ]
  },
  {
   "cell_type": "code",
   "execution_count": 120,
   "metadata": {},
   "outputs": [
    {
     "data": {
      "text/plain": [
       "{1: 2, 2: 2, 4: 1, 3: 1, 5: 1, 9: 1}"
      ]
     },
     "execution_count": 120,
     "metadata": {},
     "output_type": "execute_result"
    }
   ],
   "source": [
    "def counts(my_list):\n",
    "    counts = dict()\n",
    "    for item in my_list:\n",
    "        counts[item] = counts.get(item, 0) + 1\n",
    "    \n",
    "    return counts\n",
    "\n",
    "counts([1,2,1,4,3,2,5,9])    "
   ]
  },
  {
   "cell_type": "markdown",
   "metadata": {},
   "source": [
    "## 3.  Using the `counts()` function you created above and the `.split()` function, return a dictionary of most occuring words from the following paragraph. Bonus, remove punctuation from words."
   ]
  },
  {
   "cell_type": "code",
   "execution_count": 121,
   "metadata": {},
   "outputs": [
    {
     "data": {
      "text/plain": [
       "[('a', 16),\n",
       " ('about', 1),\n",
       " ('against', 1),\n",
       " ('alice', 5),\n",
       " ('all', 3),\n",
       " ('aloud', 1),\n",
       " ('am', 2),\n",
       " ('an', 2),\n",
       " ('and', 19),\n",
       " ('another', 1),\n",
       " ('answer', 1),\n",
       " ('any', 1),\n",
       " ('are', 2),\n",
       " ('arm', 1),\n",
       " ('as', 4),\n",
       " ('at', 7),\n",
       " ('attending', 1),\n",
       " ('back', 1),\n",
       " ('be', 2),\n",
       " ('because', 3),\n",
       " ('been', 1),\n",
       " ('began', 1),\n",
       " ('behind', 1),\n",
       " ('between', 1),\n",
       " ('both', 2),\n",
       " ('bowed', 1),\n",
       " ('broke', 1),\n",
       " ('broken', 1),\n",
       " ('but', 2),\n",
       " ('by', 3),\n",
       " ('called', 1),\n",
       " ('came', 2),\n",
       " ('can', 1),\n",
       " ('certainly', 1),\n",
       " ('changing', 1),\n",
       " ('considered', 1),\n",
       " ('constant', 1),\n",
       " ('could', 2),\n",
       " ('crash', 1),\n",
       " ('crept', 1),\n",
       " ('croquet', 2),\n",
       " ('curious', 1),\n",
       " ('curled', 1),\n",
       " ('curls', 1),\n",
       " ('decidedly', 1),\n",
       " ('dish', 1),\n",
       " ('do', 1),\n",
       " ('door', 6),\n",
       " ('duchess', 2),\n",
       " ('entangled', 1),\n",
       " ('every', 1),\n",
       " ('extraordinary', 1),\n",
       " ('eyes', 2),\n",
       " ('face', 2),\n",
       " ('fear', 1),\n",
       " ('felt', 1),\n",
       " ('first', 1),\n",
       " ('fish', 3),\n",
       " ('footman', 10),\n",
       " ('footmen', 1),\n",
       " ('for', 6),\n",
       " ('frog', 2),\n",
       " ('from', 3),\n",
       " ('get', 2),\n",
       " ('going', 1),\n",
       " ('gone', 1),\n",
       " ('got', 1),\n",
       " ('grazed', 1),\n",
       " ('great', 2),\n",
       " ('ground', 1),\n",
       " ('had', 4),\n",
       " ('hair', 1),\n",
       " ('handed', 1),\n",
       " ('have', 1),\n",
       " ('he', 6),\n",
       " ('head', 2),\n",
       " ('heads', 1),\n",
       " ('hear', 1),\n",
       " ('hearing', 1),\n",
       " ('help', 1),\n",
       " ('her', 2),\n",
       " ('here', 1),\n",
       " ('herself', 1),\n",
       " ('him', 3),\n",
       " ('himself', 1),\n",
       " ('his', 6),\n",
       " ('house', 2),\n",
       " ('how', 2),\n",
       " ('howling', 1),\n",
       " ('i', 5),\n",
       " ('if', 3),\n",
       " ('in', 9),\n",
       " ('inside', 2),\n",
       " ('instance', 1),\n",
       " ('into', 3),\n",
       " ('invitation', 2),\n",
       " ('it', 4),\n",
       " ('judging', 1),\n",
       " ('just', 1),\n",
       " ('kettle', 1),\n",
       " ('knock', 1),\n",
       " ('knocked', 1),\n",
       " ('knocking', 2),\n",
       " ('know', 2),\n",
       " ('knuckles', 1),\n",
       " ('large', 3),\n",
       " ('laughed', 1),\n",
       " ('let', 1),\n",
       " ('letter', 1),\n",
       " ('like', 1),\n",
       " ('listen', 1),\n",
       " ('little', 2),\n",
       " ('livery', 3),\n",
       " ('looking', 2),\n",
       " ('loudly', 1),\n",
       " ('low', 1),\n",
       " ('m', 1),\n",
       " ('making', 1),\n",
       " ('might', 3),\n",
       " ('minute', 1),\n",
       " ('moment', 1),\n",
       " ('most', 1),\n",
       " ('much', 1),\n",
       " ('near', 1),\n",
       " ('nearly', 2),\n",
       " ('next', 2),\n",
       " ('no', 2),\n",
       " ('noise', 2),\n",
       " ('nose', 1),\n",
       " ('noticed', 1),\n",
       " ('now', 1),\n",
       " ('of', 9),\n",
       " ('on', 4),\n",
       " ('one', 2),\n",
       " ('only', 2),\n",
       " ('opened', 2),\n",
       " ('or', 2),\n",
       " ('order', 1),\n",
       " ('other', 2),\n",
       " ('otherwise', 1),\n",
       " ('out', 5),\n",
       " ('over', 2),\n",
       " ('peeped', 1),\n",
       " ('perhaps', 1),\n",
       " ('pieces', 2),\n",
       " ('plate', 1),\n",
       " ('play', 2),\n",
       " ('please', 1),\n",
       " ('possibly', 1),\n",
       " ('powdered', 1),\n",
       " ('producing', 1),\n",
       " ('queen', 2),\n",
       " ('questions', 1),\n",
       " ('rapped', 1),\n",
       " ('rate', 1),\n",
       " ('re', 1),\n",
       " ('reasons', 1),\n",
       " ('remarked', 1),\n",
       " ('repeated', 2),\n",
       " ('round', 1),\n",
       " ('run', 1),\n",
       " ('running', 1),\n",
       " ('s', 2),\n",
       " ('said', 3),\n",
       " ('same', 2),\n",
       " ('saying', 1),\n",
       " ('secondly', 1),\n",
       " ('sense', 1),\n",
       " ('shall', 1),\n",
       " ('she', 8),\n",
       " ('side', 1),\n",
       " ('sit', 1),\n",
       " ('sitting', 1),\n",
       " ('skimming', 1),\n",
       " ('sky', 2),\n",
       " ('sneezing', 1),\n",
       " ('so', 2),\n",
       " ('solemn', 2),\n",
       " ('some', 1),\n",
       " ('sort', 1),\n",
       " ('speaking', 1),\n",
       " ('staring', 1),\n",
       " ('stood', 1),\n",
       " ('straight', 1),\n",
       " ('stupidly', 1),\n",
       " ('such', 1),\n",
       " ('suddenly', 1),\n",
       " ('t', 1),\n",
       " ('that', 3),\n",
       " ('the', 34),\n",
       " ('their', 3),\n",
       " ('then', 3),\n",
       " ('there', 3),\n",
       " ('they', 2),\n",
       " ('this', 4),\n",
       " ('thought', 1),\n",
       " ('till', 1),\n",
       " ('time', 1),\n",
       " ('timidly', 1),\n",
       " ('to', 15),\n",
       " ('together', 1),\n",
       " ('tomorrow', 1),\n",
       " ('tone', 2),\n",
       " ('top', 1),\n",
       " ('trees', 1),\n",
       " ('two', 2),\n",
       " ('uncivil', 1),\n",
       " ('under', 1),\n",
       " ('up', 3),\n",
       " ('us', 1),\n",
       " ('use', 1),\n",
       " ('very', 2),\n",
       " ('was', 8),\n",
       " ('way', 1),\n",
       " ('we', 1),\n",
       " ('went', 2),\n",
       " ('were', 1),\n",
       " ('what', 2),\n",
       " ('when', 2),\n",
       " ('with', 2),\n",
       " ('within', 1),\n",
       " ('without', 1),\n",
       " ('wondering', 1),\n",
       " ('wood', 3),\n",
       " ('words', 1),\n",
       " ('would', 1),\n",
       " ('you', 6),\n",
       " ('your', 1)]"
      ]
     },
     "execution_count": 121,
     "metadata": {},
     "output_type": "execute_result"
    }
   ],
   "source": [
    "paragraph_text = '''\n",
    "For a minute or two she stood looking at the house, and wondering what to do next, when suddenly a footman in livery came running out of the wood—(she considered him to be a footman because he was in livery: otherwise, judging by his face only, she would have called him a fish)—and rapped loudly at the door with his knuckles. It was opened by another footman in livery, with a round face, and large eyes like a frog; and both footmen, Alice noticed, had powdered hair that curled all over their heads. She felt very curious to know what it was all about, and crept a little way out of the wood to listen.\n",
    "The Fish-Footman began by producing from under his arm a great letter, nearly as large as himself, and this he handed over to the other, saying, in a solemn tone, ‘For the Duchess. An invitation from the Queen to play croquet.’ The Frog-Footman repeated, in the same solemn tone, only changing the order of the words a little, ‘From the Queen. An invitation for the Duchess to play croquet.’\n",
    "Then they both bowed low, and their curls got entangled together.\n",
    "Alice laughed so much at this, that she had to run back into the wood for fear of their hearing her; and when she next peeped out the Fish-Footman was gone, and the other was sitting on the ground near the door, staring stupidly up into the sky.\n",
    "Alice went timidly up to the door, and knocked.\n",
    "‘There’s no sort of use in knocking,’ said the Footman, ‘and that for two reasons. First, because I’m on the same side of the door as you are; secondly, because they’re making such a noise inside, no one could possibly hear you.’ And certainly there was a most extraordinary noise going on within—a constant howling and sneezing, and every now and then a great crash, as if a dish or kettle had been broken to pieces.\n",
    "‘Please, then,’ said Alice, ‘how am I to get in?’\n",
    "‘There might be some sense in your knocking,’ the Footman went on without attending to her, ‘if we had the door between us. For instance, if you were inside, you might knock, and I could let you out, you know.’ He was looking up into the sky all the time he was speaking, and this Alice thought decidedly uncivil. ‘But perhaps he can’t help it,’ she said to herself; ‘his eyes are so very nearly at the top of his head. But at any rate he might answer questions.—How am I to get in?’ she repeated, aloud.\n",
    "‘I shall sit here,’ the Footman remarked, ‘till tomorrow—’\n",
    "At this moment the door of the house opened, and a large plate came skimming out, straight at the Footman’s head: it just grazed his nose, and broke to pieces against one of the trees behind him.'''\n",
    "\n",
    "\n",
    "for char in '-.);’?:‘—(,\\n':\n",
    "    paragraph_text=paragraph_text.replace(char, ' ')\n",
    "    paragraph_text=paragraph_text.lower()\n",
    "paragraph_text2 = counts(paragraph_text.split())\n",
    "sorted(paragraph_text2.items())"
   ]
  },
  {
   "cell_type": "markdown",
   "metadata": {},
   "source": [
    "## 4. Read in a file using `open()` and iterated through the file line-by-line write each line from the file to a new file in a  `title()`-ized. Create your own file for input\n",
    "\n",
    "`This is the first line` ->  `This Is The First Line`\n",
    "\n",
    "Hint: There's a function to do this"
   ]
  },
  {
   "cell_type": "code",
   "execution_count": 122,
   "metadata": {},
   "outputs": [
    {
     "name": "stdout",
     "output_type": "stream",
     "text": [
      "Overwriting module2_readdata.txt\n"
     ]
    }
   ],
   "source": [
    "%%file module2_readdata.txt\n",
    "this is the first line\n",
    "this is the second line\n",
    "this is the third line\n",
    "this is the fourth line\n",
    "this is the fifth line\n",
    "this is the sixth line\n"
   ]
  },
  {
   "cell_type": "code",
   "execution_count": 123,
   "metadata": {},
   "outputs": [
    {
     "name": "stdout",
     "output_type": "stream",
     "text": [
      "this is the first line\n",
      "this is the second line\n",
      "this is the third line\n",
      "this is the fourth line\n",
      "this is the fifth line\n",
      "this is the sixth line\n",
      "\n",
      "This Is The First Line\n",
      "This Is The Second Line\n",
      "This Is The Third Line\n",
      "This Is The Fourth Line\n",
      "This Is The Fifth Line\n",
      "This Is The Sixth Line\n",
      "\n"
     ]
    }
   ],
   "source": [
    "with open('module2_writedata.txt', 'r') as inp:\n",
    "    y = inp.read().title()\n",
    "with open('module2_writedata.txt', 'w') as out:\n",
    "    out.write(y)\n",
    "\n",
    "readdata = open('module2_readdata.txt', 'r')\n",
    "print(readdata.read())  \n",
    "readdata = open('module2_writedata.txt', 'r')\n",
    "print(readdata.read())"
   ]
  },
  {
   "cell_type": "markdown",
   "metadata": {},
   "source": [
    "# Numpy"
   ]
  },
  {
   "cell_type": "markdown",
   "metadata": {},
   "source": [
    "## 1. Given a list, find the average using a numpy function. "
   ]
  },
  {
   "cell_type": "code",
   "execution_count": 124,
   "metadata": {},
   "outputs": [
    {
     "data": {
      "text/plain": [
       "3.375"
      ]
     },
     "execution_count": 124,
     "metadata": {},
     "output_type": "execute_result"
    }
   ],
   "source": [
    "simple_list = [1,2,1,4,3,2,5,9]\n",
    "np.average(simple_list)\n"
   ]
  },
  {
   "cell_type": "markdown",
   "metadata": {},
   "source": [
    "## 2. Given two lists of Heights and Weights of individual, calculate the BMI of those individuals, without writing a `for-loop`"
   ]
  },
  {
   "cell_type": "code",
   "execution_count": 125,
   "metadata": {},
   "outputs": [
    {
     "data": {
      "text/plain": [
       "array([0.50574713, 0.47976879, 0.53179191, 0.42285714, 0.4502924 ])"
      ]
     },
     "execution_count": 125,
     "metadata": {},
     "output_type": "execute_result"
    }
   ],
   "source": [
    "heights = [174, 173, 173, 175, 171]\n",
    "weights = [88, 83, 92, 74, 77]\n",
    "\n",
    "np.divide(weights, heights)"
   ]
  },
  {
   "cell_type": "markdown",
   "metadata": {},
   "source": [
    "## 3. Create an array of length 20 filled with random values (between 0 to 1) "
   ]
  },
  {
   "cell_type": "code",
   "execution_count": 126,
   "metadata": {},
   "outputs": [
    {
     "name": "stdout",
     "output_type": "stream",
     "text": [
      "[[0.61122627 0.78005349 0.1911956  0.23397656 0.34987919]\n",
      " [0.23280731 0.44555855 0.58956707 0.1481567  0.05363655]\n",
      " [0.00320597 0.17639627 0.22268076 0.09053739 0.26645949]\n",
      " [0.37783824 0.49145396 0.53938313 0.42077713 0.77259757]]\n"
     ]
    }
   ],
   "source": [
    "array1 = np.random.rand(4,5)\n",
    "print(array1)"
   ]
  },
  {
   "cell_type": "markdown",
   "metadata": {},
   "source": [
    "## 4. Create an array with at least 1000 random numbers from normal distributions (normal). Then, plot a histogram of these values (`plt.hist`)."
   ]
  },
  {
   "cell_type": "code",
   "execution_count": 127,
   "metadata": {},
   "outputs": [
    {
     "data": {
      "text/plain": [
       "(array([[ 0.,  0.,  6., 25., 24., 24., 13.,  7.,  0.,  1.],\n",
       "        [ 0.,  1., 10., 23., 31., 12., 18.,  4.,  1.,  0.],\n",
       "        [ 0.,  4.,  8., 17., 20., 30., 15.,  4.,  1.,  1.],\n",
       "        [ 0.,  2.,  9., 20., 22., 30., 13.,  3.,  1.,  0.],\n",
       "        [ 1.,  1.,  8., 17., 26., 26., 15.,  5.,  1.,  0.],\n",
       "        [ 0.,  2.,  6., 27., 24., 18., 18.,  5.,  0.,  0.],\n",
       "        [ 2.,  2.,  6., 17., 29., 21., 15.,  7.,  0.,  1.],\n",
       "        [ 1.,  5.,  6., 16., 22., 30., 15.,  2.,  3.,  0.],\n",
       "        [ 0.,  2., 10., 11., 25., 27., 13., 11.,  0.,  1.],\n",
       "        [ 0.,  0.,  8., 21., 26., 23., 15.,  5.,  2.,  0.]]),\n",
       " array([-3.28992419, -2.60193553, -1.91394687, -1.22595821, -0.53796955,\n",
       "         0.1500191 ,  0.83800776,  1.52599642,  2.21398508,  2.90197374,\n",
       "         3.5899624 ]),\n",
       " <a list of 10 BarContainer objects>)"
      ]
     },
     "execution_count": 127,
     "metadata": {},
     "output_type": "execute_result"
    },
    {
     "data": {
      "image/png": "[encoded data removed]",
      "text/plain": [
       "<Figure size 640x480 with 1 Axes>"
      ]
     },
     "metadata": {},
     "output_type": "display_data"
    }
   ],
   "source": [
    "array2 = np.random.randn(100,10)\n",
    "plt.hist(array2)"
   ]
  },
  {
   "cell_type": "markdown",
   "metadata": {},
   "source": [
    "# Pandas"
   ]
  },
  {
   "cell_type": "markdown",
   "metadata": {},
   "source": [
    "## 1. Read in a CSV () and display all the columns and their respective data types "
   ]
  },
  {
   "cell_type": "code",
   "execution_count": 128,
   "metadata": {},
   "outputs": [
    {
     "data": {
      "text/plain": [
       "id         int64\n",
       "sex       object\n",
       "weight     int64\n",
       "height     int64\n",
       "dtype: object"
      ]
     },
     "execution_count": 128,
     "metadata": {},
     "output_type": "execute_result"
    }
   ],
   "source": [
    "df = pd.read_csv('hw_data.csv')\n",
    "df.dtypes"
   ]
  },
  {
   "cell_type": "markdown",
   "metadata": {},
   "source": [
    "## 2. Find the average weight "
   ]
  },
  {
   "cell_type": "code",
   "execution_count": 130,
   "metadata": {},
   "outputs": [
    {
     "data": {
      "text/plain": [
       "135.71428571428572"
      ]
     },
     "execution_count": 130,
     "metadata": {},
     "output_type": "execute_result"
    }
   ],
   "source": [
    "df.loc[:, 'weight'].mean()"
   ]
  },
  {
   "cell_type": "markdown",
   "metadata": {},
   "source": [
    "## 3. Find the Value Counts on column `sex` "
   ]
  },
  {
   "cell_type": "code",
   "execution_count": 131,
   "metadata": {},
   "outputs": [
    {
     "data": {
      "text/plain": [
       "M    3\n",
       "F    3\n",
       "O    1\n",
       "Name: sex, dtype: int64"
      ]
     },
     "execution_count": 131,
     "metadata": {},
     "output_type": "execute_result"
    }
   ],
   "source": [
    "df['sex'].value_counts()"
   ]
  },
  {
   "cell_type": "markdown",
   "metadata": {},
   "source": [
    "## 4. Plot Height vs. Weight "
   ]
  },
  {
   "cell_type": "code",
   "execution_count": 132,
   "metadata": {},
   "outputs": [
    {
     "data": {
      "text/plain": [
       "<Axes: >"
      ]
     },
     "execution_count": 132,
     "metadata": {},
     "output_type": "execute_result"
    },
    {
     "data": {
      "image/png": "[encoded data removed]",
      "text/plain": [
       "<Figure size 640x480 with 1 Axes>"
      ]
     },
     "metadata": {},
     "output_type": "display_data"
    }
   ],
   "source": [
    "df[['height','weight']].plot()"
   ]
  },
  {
   "cell_type": "markdown",
   "metadata": {},
   "source": [
    "## 5. Calculate BMI and save as a new column"
   ]
  },
  {
   "cell_type": "code",
   "execution_count": 133,
   "metadata": {},
   "outputs": [
    {
     "name": "stdout",
     "output_type": "stream",
     "text": [
      "   id sex  weight  height       BMI\n",
      "0   1   M     190      77  2.467532\n",
      "1   2   F     120      70  1.714286\n",
      "2   3   F     110      68  1.617647\n",
      "3   4   M     150      72  2.083333\n",
      "4   5   O     120      66  1.818182\n",
      "5   6   M     120      60  2.000000\n",
      "6   7   F     140      70  2.000000\n"
     ]
    }
   ],
   "source": [
    "df['BMI'] = df['weight']/df['height']\n",
    "print(df)"
   ]
  },
  {
   "cell_type": "markdown",
   "metadata": {},
   "source": [
    "## 6. Save sheet as a new CSV file `hw_dataB.csv`"
   ]
  },
  {
   "cell_type": "code",
   "execution_count": 115,
   "metadata": {},
   "outputs": [],
   "source": [
    "df.to_csv('hw_dataB.csv')"
   ]
  },
  {
   "cell_type": "markdown",
   "metadata": {},
   "source": [
    "## Run the following (Mac)"
   ]
  },
  {
   "cell_type": "code",
   "execution_count": null,
   "metadata": {},
   "outputs": [],
   "source": [
    "!cat hw_dataB.csv"
   ]
  },
  {
   "cell_type": "markdown",
   "metadata": {},
   "source": [
    "## Run the following (Windows) "
   ]
  },
  {
   "cell_type": "code",
   "execution_count": 116,
   "metadata": {},
   "outputs": [
    {
     "name": "stdout",
     "output_type": "stream",
     "text": [
      ",id,sex,weight,height,BMI\n",
      "0,1,M,190,77,2.4675324675324677\n",
      "1,2,F,120,70,1.7142857142857142\n",
      "2,3,F,110,68,1.6176470588235294\n",
      "3,4,M,150,72,2.0833333333333335\n",
      "4,5,O,120,66,1.8181818181818181\n",
      "5,6,M,120,60,2.0\n",
      "6,7,F,140,70,2.0\n"
     ]
    }
   ],
   "source": [
    "!type hw_dataB.csv"
   ]
  },
  {
   "cell_type": "code",
   "execution_count": null,
   "metadata": {},
   "outputs": [],
   "source": []
  }
 ],
 "metadata": {
  "kernelspec": {
   "display_name": "Python 3 (ipykernel)",
   "language": "python",
   "name": "python3"
  },
  "language_info": {
   "codemirror_mode": {
    "name": "ipython",
    "version": 3
   },
   "file_extension": ".py",
   "mimetype": "text/x-python",
   "name": "python",
   "nbconvert_exporter": "python",
   "pygments_lexer": "ipython3",
   "version": "3.10.9"
  }
 },
 "nbformat": 4,
 "nbformat_minor": 1
}
